{
  "nbformat": 4,
  "nbformat_minor": 0,
  "metadata": {
    "colab": {
      "provenance": [],
      "authorship_tag": "ABX9TyPUUDHiw/5+ePtVLv/7I9og",
      "include_colab_link": true
    },
    "kernelspec": {
      "name": "python3",
      "display_name": "Python 3"
    },
    "language_info": {
      "name": "python"
    }
  },
  "cells": [
    {
      "cell_type": "markdown",
      "metadata": {
        "id": "view-in-github",
        "colab_type": "text"
      },
      "source": [
        "<a href=\"https://colab.research.google.com/github/olabisiojo/learnmore/blob/main/Extract%20Dollar.ipynb\" target=\"_parent\"><img src=\"https://colab.research.google.com/assets/colab-badge.svg\" alt=\"Open In Colab\"/></a>"
      ]
    },
    {
      "cell_type": "code",
      "execution_count": 1,
      "metadata": {
        "colab": {
          "base_uri": "https://localhost:8080/"
        },
        "id": "XK_7LgBRDpNT",
        "outputId": "19ded79c-e579-4040-8e1b-71c5a4999c3a"
      },
      "outputs": [
        {
          "output_type": "execute_result",
          "data": {
            "text/plain": [
              "1600.0"
            ]
          },
          "metadata": {},
          "execution_count": 1
        }
      ],
      "source": [
        "#Write  a python script to extrat the total amount of dollars in the following:\n",
        "entries = [\n",
        "    \"Dr. Peter Ngwafu - $200.00\",\n",
        "    \"Dr. Patrick Ibe $100.00\",\n",
        "    \"Mr. Anthony Osie $50.00\",\n",
        "    \"Mr. Maku James $50.00\",\n",
        "    \"Dr. Ihuoma Ohamadike $50.00\",\n",
        "    \"Anonymous donor - $50.00\",\n",
        "    \"Dr. Edgars Patani - $100.00\",\n",
        "    \"Dr. Alex Alochukwu -$50.00\",\n",
        "    \"Dr. Ihe Cajetan - $50.00\",\n",
        "    \"Dr. Uzoma Okafor - $100.00\",\n",
        "    \"Mrs. Leslie Charles - $50.00\",\n",
        "    \"Dr. Anthony Owusu-Ansah - $100\",\n",
        "    \"Mr. Charles Mande - $100.00\",\n",
        "    \"Dr. Chinenye Ofodile - $100.00\",\n",
        "    \"Dr. Emmanuel Konde - $50.00\",\n",
        "    \"Mrs. Temitope Olabowale - $50.00\",\n",
        "    \"Dr. Nneka Osakwe $100.00\",\n",
        "    \"Mrs. Anne Bassey - $50.00\",\n",
        "    \"Dr. Robert Owor - $50.00\",\n",
        "    \"Mrs. Katherine Kikivarakis - $50.00\",\n",
        "    \"Mr. Peter Akinnubi - $100.00\"\n",
        "]\n",
        "\n",
        "# Extract amounts and sum them\n",
        "import re\n",
        "\n",
        "total_amount = 0\n",
        "for entry in entries:\n",
        "    # Find the dollar amount using regex\n",
        "    match = re.search(r\"\\$([0-9]+(?:\\.[0-9]{2})?)\", entry)\n",
        "    if match:\n",
        "        amount = float(match.group(1))\n",
        "        total_amount += amount\n",
        "\n",
        "total_amount"
      ]
    }
  ]
}